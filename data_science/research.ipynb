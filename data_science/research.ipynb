{
 "cells": [
  {
   "cell_type": "markdown",
   "metadata": {},
   "source": [
    "### В рамках формулировки задачи и сэмпла данных, модель ниже имеет 100% точность предсказаний, так как таргет (strength) является функцией от длины пароля (password)"
   ]
  },
  {
   "cell_type": "code",
   "execution_count": 30,
   "metadata": {},
   "outputs": [
    {
     "data": {
      "text/plain": [
       "<matplotlib.legend.Legend at 0x1d341fb6110>"
      ]
     },
     "execution_count": 30,
     "metadata": {},
     "output_type": "execute_result"
    },
    {
     "data": {
      "image/png": "[encoded data removed]",
      "text/plain": [
       "<Figure size 640x480 with 1 Axes>"
      ]
     },
     "metadata": {},
     "output_type": "display_data"
    }
   ],
   "source": [
    "import warnings\n",
    "warnings.filterwarnings('ignore')\n",
    "\n",
    "import pandas as pd\n",
    "import matplotlib.pyplot as plt\n",
    "\n",
    "df = pd.read_csv('passwords.csv', sep=',')\n",
    "df['len'] = df['password'].apply(lambda x: len(x))\n",
    "\n",
    "df.groupby('strength')['len'].hist(bins=1)\n",
    "plt.legend([0, 1, 2], title='strength')"
   ]
  },
  {
   "cell_type": "markdown",
   "metadata": {},
   "source": [
    "### Явно видна зависимость распределения оценки пароля от его длины.\n",
    "### Поэтому для решения задачи достаточно функции ниже."
   ]
  },
  {
   "cell_type": "code",
   "execution_count": 31,
   "metadata": {},
   "outputs": [],
   "source": [
    "def get_strength(password: str) -> int:\n",
    "    if len(password) <= 7:\n",
    "        return 0\n",
    "    if 7 < len(password) < 14:\n",
    "        return 1\n",
    "    return 2"
   ]
  },
  {
   "cell_type": "code",
   "execution_count": 32,
   "metadata": {},
   "outputs": [
    {
     "name": "stdout",
     "output_type": "stream",
     "text": [
      "Результаты функции от длины:\n",
      "Точность функции: 1.0\n",
      "F1-мера: 1.0\n"
     ]
    }
   ],
   "source": [
    "# accuracy_score: доля правильно классифицированных паролей\n",
    "# f1_score: Среднее гармоническое между точностью и полнотой\n",
    "\n",
    "from sklearn.metrics import accuracy_score, f1_score\n",
    "df = pd.read_csv('passwords.csv', sep=',')\n",
    "\n",
    "print('Результаты функции от длины:')\n",
    "print(f\"Точность функции: {accuracy_score(df['strength'], df['password'].apply(get_strength))}\")\n",
    "print(f\"F1-мера: {f1_score(df['strength'], df['password'].apply(get_strength), average='weighted')}\")\n",
    "\n",
    "metric_result = {}\n",
    "metric_result['len_function'] = {\n",
    "    'accuracy_score': accuracy_score(df['strength'], df['password'].apply(get_strength)),\n",
    "    'f1_score': f1_score(df['strength'], df['password'].apply(get_strength), average='weighted')\n",
    "}"
   ]
  },
  {
   "cell_type": "code",
   "execution_count": 33,
   "metadata": {},
   "outputs": [
    {
     "data": {
      "text/plain": [
       "1"
      ]
     },
     "execution_count": 33,
     "metadata": {},
     "output_type": "execute_result"
    }
   ],
   "source": [
    "# проверка нового пароля\n",
    "get_strength('your password')"
   ]
  },
  {
   "cell_type": "markdown",
   "metadata": {},
   "source": [
    "### Комментарий к решению:\n",
    "#### В рамках анализа данных удалось выделить следующие фичи:\n",
    "* len - длина пароля\n",
    "* any_num - флаг наличия цифр\n",
    "* num_count - количество цифр\n",
    "* any_capital - флаг наличия заглавных букв\n",
    "* capital_cnt - количество заглавных букв\n",
    "* any_symbols - флаг других символов\n",
    "* any_symbols_cnt - количество других символов\n",
    "* uniq_metric - доля уникальных символов относительно длины пароля\n",
    "* all_uniq - флаг уникальности всех символов\n",
    "* max_repeat_perc - доля самого повторяющегося символа относительно длины пароля\n",
    "* not_safety - вхождение в списки \"слитых\" паролей\n",
    "\n",
    "#### Однако, в этом мало смысла, так как, например, бустингу, независимо от количества разных фичей, будет достаточно длины пароля для accuracy_score = 1"
   ]
  },
  {
   "cell_type": "markdown",
   "metadata": {},
   "source": []
  }
 ],
 "metadata": {
  "kernelspec": {
   "display_name": "Python 3",
   "language": "python",
   "name": "python3"
  },
  "language_info": {
   "codemirror_mode": {
    "name": "ipython",
    "version": 3
   },
   "file_extension": ".py",
   "mimetype": "text/x-python",
   "name": "python",
   "nbconvert_exporter": "python",
   "pygments_lexer": "ipython3",
   "version": "3.11.4"
  },
  "orig_nbformat": 4
 },
 "nbformat": 4,
 "nbformat_minor": 2
}
